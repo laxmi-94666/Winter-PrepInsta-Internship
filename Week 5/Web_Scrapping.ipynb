{
 "cells": [
  {
   "cell_type": "code",
   "execution_count": 2,
   "id": "627b97f8",
   "metadata": {},
   "outputs": [],
   "source": [
    "import requests\n",
    "import pandas as pd\n",
    "from bs4 import BeautifulSoup   "
   ]
  },
  {
   "cell_type": "code",
   "execution_count": 6,
   "id": "844a5a11",
   "metadata": {},
   "outputs": [
    {
     "name": "stdout",
     "output_type": "stream",
     "text": [
      "<!DOCTYPE html>\n",
      "<!--[if lt IE 7]>      <html lang=\"en-us\" class=\"no-js lt-ie9 lt-ie8 lt-ie7\"> <![endif]-->\n",
      "<!--[if IE 7]>         <html lang=\"en-us\" class=\"no-js lt-ie9 lt-ie8\"> <![endif]-->\n",
      "<!--[if IE 8]>         <html lang=\"en-us\" class=\"no-js lt-ie9\"> <![endif]-->\n",
      "<!--[if gt IE 8]><!--> <html lang=\"en-us\" class=\"no-js\"> <!--<![endif]-->\n",
      "    <head>\n",
      "        <title>\n",
      "    All products | Books to Scrape - Sandbox\n",
      "</title>\n",
      "\n",
      "        <meta http-equiv=\"content-type\" content=\"text/html; charset=UTF-8\" />\n",
      "        <meta name=\"created\" content=\"24th Jun 2016 09:29\" />\n",
      "        <meta name=\"description\" content=\"\" />\n",
      "        <meta name=\"viewport\" content=\"width=device-width\" />\n",
      "        <meta name=\"robots\" content=\"NOARCHIVE,NOCACHE\" />\n",
      "\n",
      "        <!-- Le HTML5 shim, for IE6-8 support of HTML elements -->\n",
      "        <!--[if lt IE 9]>\n",
      "        <script src=\"//html5shim.googlecode.com/svn/trunk/html5.js\"></script>\n",
      "        <![endif]-->\n",
      "\n",
      "        \n",
      "            <link rel=\"shortcut icon\" href=\"static/oscar/favicon.\n"
     ]
    }
   ],
   "source": [
    "response = requests.get('http://books.toscrape.com/')    #used to get the http response from url we give\n",
    "response.status_code\n",
    "type(response)\n",
    "print(response.text[:1000])\n",
    "     "
   ]
  },
  {
   "cell_type": "code",
   "execution_count": 7,
   "id": "340bb76b",
   "metadata": {},
   "outputs": [
    {
     "data": {
      "text/plain": [
       "str"
      ]
     },
     "execution_count": 7,
     "metadata": {},
     "output_type": "execute_result"
    }
   ],
   "source": [
    "type(response.text)"
   ]
  },
  {
   "cell_type": "code",
   "execution_count": 13,
   "id": "9b13d41b",
   "metadata": {},
   "outputs": [
    {
     "data": {
      "text/plain": [
       "bs4.BeautifulSoup"
      ]
     },
     "execution_count": 13,
     "metadata": {},
     "output_type": "execute_result"
    }
   ],
   "source": [
    "soup = BeautifulSoup(response.text)\n",
    "type(soup)\n"
   ]
  },
  {
   "cell_type": "code",
   "execution_count": 14,
   "id": "d2ed84c4",
   "metadata": {},
   "outputs": [],
   "source": [
    "book_tag = soup.find_all('article',class_='product_pod')"
   ]
  },
  {
   "cell_type": "code",
   "execution_count": 15,
   "id": "3f784395",
   "metadata": {},
   "outputs": [
    {
     "data": {
      "text/plain": [
       "20"
      ]
     },
     "execution_count": 15,
     "metadata": {},
     "output_type": "execute_result"
    }
   ],
   "source": [
    "len(book_tag)"
   ]
  },
  {
   "cell_type": "code",
   "execution_count": 16,
   "id": "3aecf99a",
   "metadata": {},
   "outputs": [
    {
     "name": "stdout",
     "output_type": "stream",
     "text": [
      "<article class=\"product_pod\">\n",
      "<div class=\"image_container\">\n",
      "<a href=\"catalogue/its-only-the-himalayas_981/index.html\"><img alt=\"It's Only the Himalayas\" class=\"thumbnail\" src=\"media/cache/27/a5/27a53d0bb95bdd88288eaf66c9230d7e.jpg\"/></a>\n",
      "</div>\n",
      "<p class=\"star-rating Two\">\n",
      "<i class=\"icon-star\"></i>\n",
      "<i class=\"icon-star\"></i>\n",
      "<i class=\"icon-star\"></i>\n",
      "<i class=\"icon-star\"></i>\n",
      "<i class=\"icon-star\"></i>\n",
      "</p>\n",
      "<h3><a href=\"catalogue/its-only-the-himalayas_981/index.html\" title=\"It's Only the Himalayas\">It's Only the Himalayas</a></h3>\n",
      "<div class=\"product_price\">\n",
      "<p class=\"price_color\">Â£45.17</p>\n",
      "<p class=\"instock availability\">\n",
      "<i class=\"icon-ok\"></i>\n",
      "    \n",
      "        In stock\n",
      "    \n",
      "</p>\n",
      "<form>\n",
      "<button class=\"btn btn-primary btn-block\" data-loading-text=\"Adding...\" type=\"submit\">Add to basket</button>\n",
      "</form>\n",
      "</div>\n",
      "</article>\n"
     ]
    }
   ],
   "source": [
    "book = book_tag[19]\n",
    "print(book)"
   ]
  },
  {
   "cell_type": "code",
   "execution_count": 17,
   "id": "372d42dd",
   "metadata": {},
   "outputs": [
    {
     "data": {
      "text/plain": [
       "\"It's Only the Himalayas\""
      ]
     },
     "execution_count": 17,
     "metadata": {},
     "output_type": "execute_result"
    }
   ],
   "source": [
    "title_tag = book.find('a',title=True)['title']\n",
    "title_tag"
   ]
  },
  {
   "cell_type": "code",
   "execution_count": 18,
   "id": "93075987",
   "metadata": {},
   "outputs": [
    {
     "data": {
      "text/plain": [
       "'Two'"
      ]
     },
     "execution_count": 18,
     "metadata": {},
     "output_type": "execute_result"
    }
   ],
   "source": [
    "rating_tag = book.find('p')['class'][1]\n",
    "rating_tag"
   ]
  },
  {
   "cell_type": "code",
   "execution_count": 19,
   "id": "fc2dec4d",
   "metadata": {},
   "outputs": [
    {
     "data": {
      "text/plain": [
       "'£45.17'"
      ]
     },
     "execution_count": 19,
     "metadata": {},
     "output_type": "execute_result"
    }
   ],
   "source": [
    "price_tag = book.find('p',class_='price_color').text[1:]\n",
    "price_tag"
   ]
  },
  {
   "cell_type": "code",
   "execution_count": 20,
   "id": "02988a21",
   "metadata": {},
   "outputs": [
    {
     "data": {
      "text/plain": [
       "'http://books.toscrape.com/catalogue/its-only-the-himalayas_981/index.html'"
      ]
     },
     "execution_count": 20,
     "metadata": {},
     "output_type": "execute_result"
    }
   ],
   "source": [
    "link_tag = 'http://books.toscrape.com/' + book.find('a')['href']\n",
    "link_tag"
   ]
  },
  {
   "cell_type": "code",
   "execution_count": null,
   "id": "a99beff0",
   "metadata": {},
   "outputs": [],
   "source": []
  },
  {
   "cell_type": "code",
   "execution_count": 26,
   "id": "09560992",
   "metadata": {},
   "outputs": [],
   "source": [
    "data_list = []\n",
    "\n",
    "for books in range(0, 20):\n",
    "    book = book_tag[books]\n",
    "    title_tag = book.find('a',title=True)['title']\n",
    "    rating_tag = book.find('p')['class'][1]\n",
    "    price_tag = book.find('p',class_='price_color').text[1:]\n",
    "    link_tag = 'http://books.toscrape.com/' + book.find('a')['href']\n",
    "\n",
    "    data_list.append([title_tag, price_tag, rating_tag, link_tag])"
   ]
  },
  {
   "cell_type": "code",
   "execution_count": 25,
   "id": "0f04b03f",
   "metadata": {},
   "outputs": [],
   "source": [
    "columns = ['Title', 'Price', 'Rating', 'Link']\n",
    "df = pd.DataFrame(data_list, columns=columns)"
   ]
  },
  {
   "cell_type": "code",
   "execution_count": 23,
   "id": "d25cb2f6",
   "metadata": {},
   "outputs": [
    {
     "data": {
      "text/html": [
       "<div>\n",
       "<style scoped>\n",
       "    .dataframe tbody tr th:only-of-type {\n",
       "        vertical-align: middle;\n",
       "    }\n",
       "\n",
       "    .dataframe tbody tr th {\n",
       "        vertical-align: top;\n",
       "    }\n",
       "\n",
       "    .dataframe thead th {\n",
       "        text-align: right;\n",
       "    }\n",
       "</style>\n",
       "<table border=\"1\" class=\"dataframe\">\n",
       "  <thead>\n",
       "    <tr style=\"text-align: right;\">\n",
       "      <th></th>\n",
       "      <th>Title</th>\n",
       "      <th>Price</th>\n",
       "      <th>Rating</th>\n",
       "      <th>Link</th>\n",
       "    </tr>\n",
       "  </thead>\n",
       "  <tbody>\n",
       "    <tr>\n",
       "      <th>0</th>\n",
       "      <td>A Light in the Attic</td>\n",
       "      <td>£51.77</td>\n",
       "      <td>Three</td>\n",
       "      <td>http://books.toscrape.com/catalogue/a-light-in...</td>\n",
       "    </tr>\n",
       "    <tr>\n",
       "      <th>1</th>\n",
       "      <td>Tipping the Velvet</td>\n",
       "      <td>£53.74</td>\n",
       "      <td>One</td>\n",
       "      <td>http://books.toscrape.com/catalogue/tipping-th...</td>\n",
       "    </tr>\n",
       "    <tr>\n",
       "      <th>2</th>\n",
       "      <td>Soumission</td>\n",
       "      <td>£50.10</td>\n",
       "      <td>One</td>\n",
       "      <td>http://books.toscrape.com/catalogue/soumission...</td>\n",
       "    </tr>\n",
       "    <tr>\n",
       "      <th>3</th>\n",
       "      <td>Sharp Objects</td>\n",
       "      <td>£47.82</td>\n",
       "      <td>Four</td>\n",
       "      <td>http://books.toscrape.com/catalogue/sharp-obje...</td>\n",
       "    </tr>\n",
       "    <tr>\n",
       "      <th>4</th>\n",
       "      <td>Sapiens: A Brief History of Humankind</td>\n",
       "      <td>£54.23</td>\n",
       "      <td>Five</td>\n",
       "      <td>http://books.toscrape.com/catalogue/sapiens-a-...</td>\n",
       "    </tr>\n",
       "    <tr>\n",
       "      <th>5</th>\n",
       "      <td>The Requiem Red</td>\n",
       "      <td>£22.65</td>\n",
       "      <td>One</td>\n",
       "      <td>http://books.toscrape.com/catalogue/the-requie...</td>\n",
       "    </tr>\n",
       "    <tr>\n",
       "      <th>6</th>\n",
       "      <td>The Dirty Little Secrets of Getting Your Dream...</td>\n",
       "      <td>£33.34</td>\n",
       "      <td>Four</td>\n",
       "      <td>http://books.toscrape.com/catalogue/the-dirty-...</td>\n",
       "    </tr>\n",
       "    <tr>\n",
       "      <th>7</th>\n",
       "      <td>The Coming Woman: A Novel Based on the Life of...</td>\n",
       "      <td>£17.93</td>\n",
       "      <td>Three</td>\n",
       "      <td>http://books.toscrape.com/catalogue/the-coming...</td>\n",
       "    </tr>\n",
       "    <tr>\n",
       "      <th>8</th>\n",
       "      <td>The Boys in the Boat: Nine Americans and Their...</td>\n",
       "      <td>£22.60</td>\n",
       "      <td>Four</td>\n",
       "      <td>http://books.toscrape.com/catalogue/the-boys-i...</td>\n",
       "    </tr>\n",
       "    <tr>\n",
       "      <th>9</th>\n",
       "      <td>The Black Maria</td>\n",
       "      <td>£52.15</td>\n",
       "      <td>One</td>\n",
       "      <td>http://books.toscrape.com/catalogue/the-black-...</td>\n",
       "    </tr>\n",
       "    <tr>\n",
       "      <th>10</th>\n",
       "      <td>Starving Hearts (Triangular Trade Trilogy, #1)</td>\n",
       "      <td>£13.99</td>\n",
       "      <td>Two</td>\n",
       "      <td>http://books.toscrape.com/catalogue/starving-h...</td>\n",
       "    </tr>\n",
       "    <tr>\n",
       "      <th>11</th>\n",
       "      <td>Shakespeare's Sonnets</td>\n",
       "      <td>£20.66</td>\n",
       "      <td>Four</td>\n",
       "      <td>http://books.toscrape.com/catalogue/shakespear...</td>\n",
       "    </tr>\n",
       "    <tr>\n",
       "      <th>12</th>\n",
       "      <td>Set Me Free</td>\n",
       "      <td>£17.46</td>\n",
       "      <td>Five</td>\n",
       "      <td>http://books.toscrape.com/catalogue/set-me-fre...</td>\n",
       "    </tr>\n",
       "    <tr>\n",
       "      <th>13</th>\n",
       "      <td>Scott Pilgrim's Precious Little Life (Scott Pi...</td>\n",
       "      <td>£52.29</td>\n",
       "      <td>Five</td>\n",
       "      <td>http://books.toscrape.com/catalogue/scott-pilg...</td>\n",
       "    </tr>\n",
       "    <tr>\n",
       "      <th>14</th>\n",
       "      <td>Rip it Up and Start Again</td>\n",
       "      <td>£35.02</td>\n",
       "      <td>Five</td>\n",
       "      <td>http://books.toscrape.com/catalogue/rip-it-up-...</td>\n",
       "    </tr>\n",
       "    <tr>\n",
       "      <th>15</th>\n",
       "      <td>Our Band Could Be Your Life: Scenes from the A...</td>\n",
       "      <td>£57.25</td>\n",
       "      <td>Three</td>\n",
       "      <td>http://books.toscrape.com/catalogue/our-band-c...</td>\n",
       "    </tr>\n",
       "    <tr>\n",
       "      <th>16</th>\n",
       "      <td>Olio</td>\n",
       "      <td>£23.88</td>\n",
       "      <td>One</td>\n",
       "      <td>http://books.toscrape.com/catalogue/olio_984/i...</td>\n",
       "    </tr>\n",
       "    <tr>\n",
       "      <th>17</th>\n",
       "      <td>Mesaerion: The Best Science Fiction Stories 18...</td>\n",
       "      <td>£37.59</td>\n",
       "      <td>One</td>\n",
       "      <td>http://books.toscrape.com/catalogue/mesaerion-...</td>\n",
       "    </tr>\n",
       "    <tr>\n",
       "      <th>18</th>\n",
       "      <td>Libertarianism for Beginners</td>\n",
       "      <td>£51.33</td>\n",
       "      <td>Two</td>\n",
       "      <td>http://books.toscrape.com/catalogue/libertaria...</td>\n",
       "    </tr>\n",
       "    <tr>\n",
       "      <th>19</th>\n",
       "      <td>It's Only the Himalayas</td>\n",
       "      <td>£45.17</td>\n",
       "      <td>Two</td>\n",
       "      <td>http://books.toscrape.com/catalogue/its-only-t...</td>\n",
       "    </tr>\n",
       "  </tbody>\n",
       "</table>\n",
       "</div>"
      ],
      "text/plain": [
       "                                                Title   Price Rating  \\\n",
       "0                                A Light in the Attic  £51.77  Three   \n",
       "1                                  Tipping the Velvet  £53.74    One   \n",
       "2                                          Soumission  £50.10    One   \n",
       "3                                       Sharp Objects  £47.82   Four   \n",
       "4               Sapiens: A Brief History of Humankind  £54.23   Five   \n",
       "5                                     The Requiem Red  £22.65    One   \n",
       "6   The Dirty Little Secrets of Getting Your Dream...  £33.34   Four   \n",
       "7   The Coming Woman: A Novel Based on the Life of...  £17.93  Three   \n",
       "8   The Boys in the Boat: Nine Americans and Their...  £22.60   Four   \n",
       "9                                     The Black Maria  £52.15    One   \n",
       "10     Starving Hearts (Triangular Trade Trilogy, #1)  £13.99    Two   \n",
       "11                              Shakespeare's Sonnets  £20.66   Four   \n",
       "12                                        Set Me Free  £17.46   Five   \n",
       "13  Scott Pilgrim's Precious Little Life (Scott Pi...  £52.29   Five   \n",
       "14                          Rip it Up and Start Again  £35.02   Five   \n",
       "15  Our Band Could Be Your Life: Scenes from the A...  £57.25  Three   \n",
       "16                                               Olio  £23.88    One   \n",
       "17  Mesaerion: The Best Science Fiction Stories 18...  £37.59    One   \n",
       "18                       Libertarianism for Beginners  £51.33    Two   \n",
       "19                            It's Only the Himalayas  £45.17    Two   \n",
       "\n",
       "                                                 Link  \n",
       "0   http://books.toscrape.com/catalogue/a-light-in...  \n",
       "1   http://books.toscrape.com/catalogue/tipping-th...  \n",
       "2   http://books.toscrape.com/catalogue/soumission...  \n",
       "3   http://books.toscrape.com/catalogue/sharp-obje...  \n",
       "4   http://books.toscrape.com/catalogue/sapiens-a-...  \n",
       "5   http://books.toscrape.com/catalogue/the-requie...  \n",
       "6   http://books.toscrape.com/catalogue/the-dirty-...  \n",
       "7   http://books.toscrape.com/catalogue/the-coming...  \n",
       "8   http://books.toscrape.com/catalogue/the-boys-i...  \n",
       "9   http://books.toscrape.com/catalogue/the-black-...  \n",
       "10  http://books.toscrape.com/catalogue/starving-h...  \n",
       "11  http://books.toscrape.com/catalogue/shakespear...  \n",
       "12  http://books.toscrape.com/catalogue/set-me-fre...  \n",
       "13  http://books.toscrape.com/catalogue/scott-pilg...  \n",
       "14  http://books.toscrape.com/catalogue/rip-it-up-...  \n",
       "15  http://books.toscrape.com/catalogue/our-band-c...  \n",
       "16  http://books.toscrape.com/catalogue/olio_984/i...  \n",
       "17  http://books.toscrape.com/catalogue/mesaerion-...  \n",
       "18  http://books.toscrape.com/catalogue/libertaria...  \n",
       "19  http://books.toscrape.com/catalogue/its-only-t...  "
      ]
     },
     "execution_count": 23,
     "metadata": {},
     "output_type": "execute_result"
    }
   ],
   "source": [
    "df"
   ]
  },
  {
   "cell_type": "code",
   "execution_count": null,
   "id": "7742326c",
   "metadata": {},
   "outputs": [],
   "source": []
  }
 ],
 "metadata": {
  "kernelspec": {
   "display_name": "Python 3 (ipykernel)",
   "language": "python",
   "name": "python3"
  },
  "language_info": {
   "codemirror_mode": {
    "name": "ipython",
    "version": 3
   },
   "file_extension": ".py",
   "mimetype": "text/x-python",
   "name": "python",
   "nbconvert_exporter": "python",
   "pygments_lexer": "ipython3",
   "version": "3.9.12"
  }
 },
 "nbformat": 4,
 "nbformat_minor": 5
}
